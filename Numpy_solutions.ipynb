{
  "nbformat": 4,
  "nbformat_minor": 0,
  "metadata": {
    "colab": {
      "provenance": [],
      "toc_visible": true
    },
    "kernelspec": {
      "name": "python3",
      "display_name": "Python 3"
    },
    "language_info": {
      "name": "python"
    }
  },
  "cells": [
    {
      "cell_type": "markdown",
      "source": [
        "## 1. Импортируйте библиотеку NumPy"
      ],
      "metadata": {
        "id": "9NGGxdDGY00c"
      }
    },
    {
      "cell_type": "code",
      "execution_count": 1,
      "metadata": {
        "id": "RMSJRyJcYk2R"
      },
      "outputs": [],
      "source": [
        "import numpy as np"
      ]
    },
    {
      "cell_type": "markdown",
      "source": [
        "## 2. Создайте массив из 10 нулей"
      ],
      "metadata": {
        "id": "vtf8U_NIZZnb"
      }
    },
    {
      "cell_type": "code",
      "source": [
        "mat=np.zeros(10)\n",
        "print(mat)"
      ],
      "metadata": {
        "colab": {
          "base_uri": "https://localhost:8080/"
        },
        "id": "s3dTYQYTZY6Q",
        "outputId": "74f2c423-3df6-4da8-f7ef-e1ad87ac27a7"
      },
      "execution_count": 2,
      "outputs": [
        {
          "output_type": "stream",
          "name": "stdout",
          "text": [
            "[0. 0. 0. 0. 0. 0. 0. 0. 0. 0.]\n"
          ]
        }
      ]
    },
    {
      "cell_type": "markdown",
      "source": [
        "## 3. Создать массив из 10 единиц"
      ],
      "metadata": {
        "id": "mGSWsMqKbedJ"
      }
    },
    {
      "cell_type": "code",
      "source": [
        "mat1=np.ones(10)\n",
        "print(mat1)"
      ],
      "metadata": {
        "colab": {
          "base_uri": "https://localhost:8080/"
        },
        "id": "pXoqfqdjb388",
        "outputId": "55b25592-3d06-430c-c447-3bd06257faa9"
      },
      "execution_count": 3,
      "outputs": [
        {
          "output_type": "stream",
          "name": "stdout",
          "text": [
            "[1. 1. 1. 1. 1. 1. 1. 1. 1. 1.]\n"
          ]
        }
      ]
    },
    {
      "cell_type": "markdown",
      "source": [
        "## 4. Создать массив из 10 пятерок"
      ],
      "metadata": {
        "id": "nxDyjgW0b4hq"
      }
    },
    {
      "cell_type": "code",
      "source": [
        "mat2=np.ones(10)*5\n",
        "print(mat2)"
      ],
      "metadata": {
        "colab": {
          "base_uri": "https://localhost:8080/"
        },
        "id": "nCAMZ7E9cLxx",
        "outputId": "07f18ed7-d399-49d1-80e6-c319251bfe0d"
      },
      "execution_count": 4,
      "outputs": [
        {
          "output_type": "stream",
          "name": "stdout",
          "text": [
            "[5. 5. 5. 5. 5. 5. 5. 5. 5. 5.]\n"
          ]
        }
      ]
    },
    {
      "cell_type": "markdown",
      "source": [
        "## 5. Создать массив из целых чисел от 10 до 50"
      ],
      "metadata": {
        "id": "9HgmgnjjcNo3"
      }
    },
    {
      "cell_type": "code",
      "source": [
        "mas=np.arange(10,50)\n",
        "print(mas)"
      ],
      "metadata": {
        "colab": {
          "base_uri": "https://localhost:8080/"
        },
        "id": "aRuPd3XScYBI",
        "outputId": "8dc6fc05-5509-4616-f0d5-585ddfc22134"
      },
      "execution_count": 5,
      "outputs": [
        {
          "output_type": "stream",
          "name": "stdout",
          "text": [
            "[10 11 12 13 14 15 16 17 18 19 20 21 22 23 24 25 26 27 28 29 30 31 32 33\n",
            " 34 35 36 37 38 39 40 41 42 43 44 45 46 47 48 49]\n"
          ]
        }
      ]
    },
    {
      "cell_type": "markdown",
      "source": [
        "## 6. Создать массив из четных чисел от 10 до 50"
      ],
      "metadata": {
        "id": "tuplXXAYcYXk"
      }
    },
    {
      "cell_type": "code",
      "source": [
        "mas1=np.arange(10,50,2)\n",
        "print(mas1)"
      ],
      "metadata": {
        "colab": {
          "base_uri": "https://localhost:8080/"
        },
        "id": "4adoiryqccTH",
        "outputId": "26ec34bb-bf71-44ab-efbf-6e548bf42119"
      },
      "execution_count": 6,
      "outputs": [
        {
          "output_type": "stream",
          "name": "stdout",
          "text": [
            "[10 12 14 16 18 20 22 24 26 28 30 32 34 36 38 40 42 44 46 48]\n"
          ]
        }
      ]
    },
    {
      "cell_type": "markdown",
      "source": [
        "## 7. Создать матрицу 3х3 с числами от 0 до 8"
      ],
      "metadata": {
        "id": "AZft1p3sceef"
      }
    },
    {
      "cell_type": "code",
      "source": [
        "mas2=np.arange(9).reshape(3,3)\n",
        "print(mas2)"
      ],
      "metadata": {
        "colab": {
          "base_uri": "https://localhost:8080/"
        },
        "id": "WX-nIquFcmAz",
        "outputId": "2e1ad937-69e5-4aef-8586-cc9861bf190a"
      },
      "execution_count": 7,
      "outputs": [
        {
          "output_type": "stream",
          "name": "stdout",
          "text": [
            "[[0 1 2]\n",
            " [3 4 5]\n",
            " [6 7 8]]\n"
          ]
        }
      ]
    },
    {
      "cell_type": "markdown",
      "source": [
        "## 8. Создать единичную матрицу 3x3"
      ],
      "metadata": {
        "id": "VjmUgxctcmhI"
      }
    },
    {
      "cell_type": "code",
      "source": [
        "mas3=np.eye(3)\n",
        "print(mas3)"
      ],
      "metadata": {
        "colab": {
          "base_uri": "https://localhost:8080/"
        },
        "id": "7DDcuMwecp67",
        "outputId": "019afb48-a273-48b2-8e7d-301be254bda4"
      },
      "execution_count": 8,
      "outputs": [
        {
          "output_type": "stream",
          "name": "stdout",
          "text": [
            "[[1. 0. 0.]\n",
            " [0. 1. 0.]\n",
            " [0. 0. 1.]]\n"
          ]
        }
      ]
    },
    {
      "cell_type": "markdown",
      "source": [
        "## 9. Используйте NumPy для генерации случайного числа от 0 до 1"
      ],
      "metadata": {
        "id": "gUlunSu-cqFL"
      }
    },
    {
      "cell_type": "code",
      "source": [
        "p=np.random.rand ()\n",
        "print (p)"
      ],
      "metadata": {
        "colab": {
          "base_uri": "https://localhost:8080/"
        },
        "id": "meQlU9He_Uol",
        "outputId": "24068cea-4cea-49ab-de3c-1ab7d7a895b3"
      },
      "execution_count": 9,
      "outputs": [
        {
          "output_type": "stream",
          "name": "stdout",
          "text": [
            "0.4730696043781265\n"
          ]
        }
      ]
    },
    {
      "cell_type": "markdown",
      "source": [
        "## 10. Используйте NumPy для генерации массива из 25 случайных чисел,взятых из стандартного нормального распределения"
      ],
      "metadata": {
        "id": "wnfPZxvvcxNn"
      }
    },
    {
      "cell_type": "code",
      "source": [
        "mas4=np.random.randn(25)\n",
        "print(mas4)"
      ],
      "metadata": {
        "colab": {
          "base_uri": "https://localhost:8080/"
        },
        "id": "ZfCxRu3Gc3lg",
        "outputId": "998c3c5c-8681-44ad-c9e5-3d8004fe4cf2"
      },
      "execution_count": 10,
      "outputs": [
        {
          "output_type": "stream",
          "name": "stdout",
          "text": [
            "[ 1.04660355 -1.88622761 -0.26413512  1.7162627   1.09433346 -0.39950921\n",
            "  0.68106981  0.26744275 -1.08347232 -0.69894349 -0.51226419  0.66188498\n",
            "  0.37955924  0.3262334   0.208701    2.00176037  0.98410065  0.80289162\n",
            "  0.21837903 -0.76488041 -0.052942   -1.43943946 -0.88622011  1.29849913\n",
            " -0.45447053]\n"
          ]
        }
      ]
    },
    {
      "cell_type": "markdown",
      "source": [
        "## 11. Создайте матрицу используя функции библиотеки NumPy размером 10х10 со значениями от 0 до 1"
      ],
      "metadata": {
        "id": "vEOGGVjyc31X"
      }
    },
    {
      "cell_type": "code",
      "source": [
        "mas5=np.arange(0.01,1.01,0.01)\n",
        "mas5=mas5.reshape(10,10)\n",
        "print(mas5)"
      ],
      "metadata": {
        "colab": {
          "base_uri": "https://localhost:8080/"
        },
        "id": "330Msy3Ac95x",
        "outputId": "1d01f594-937a-421a-c68e-1d745c22d39a"
      },
      "execution_count": 11,
      "outputs": [
        {
          "output_type": "stream",
          "name": "stdout",
          "text": [
            "[[0.01 0.02 0.03 0.04 0.05 0.06 0.07 0.08 0.09 0.1 ]\n",
            " [0.11 0.12 0.13 0.14 0.15 0.16 0.17 0.18 0.19 0.2 ]\n",
            " [0.21 0.22 0.23 0.24 0.25 0.26 0.27 0.28 0.29 0.3 ]\n",
            " [0.31 0.32 0.33 0.34 0.35 0.36 0.37 0.38 0.39 0.4 ]\n",
            " [0.41 0.42 0.43 0.44 0.45 0.46 0.47 0.48 0.49 0.5 ]\n",
            " [0.51 0.52 0.53 0.54 0.55 0.56 0.57 0.58 0.59 0.6 ]\n",
            " [0.61 0.62 0.63 0.64 0.65 0.66 0.67 0.68 0.69 0.7 ]\n",
            " [0.71 0.72 0.73 0.74 0.75 0.76 0.77 0.78 0.79 0.8 ]\n",
            " [0.81 0.82 0.83 0.84 0.85 0.86 0.87 0.88 0.89 0.9 ]\n",
            " [0.91 0.92 0.93 0.94 0.95 0.96 0.97 0.98 0.99 1.  ]]\n"
          ]
        }
      ]
    },
    {
      "cell_type": "markdown",
      "source": [
        "## 12. Дана стартовая матрица (обязательно запустите код ниже в вашем решении!). Эта матрица будет использоваться в последующих задачах"
      ],
      "metadata": {
        "id": "_0sRt_Pnc-Fh"
      }
    },
    {
      "cell_type": "code",
      "source": [
        "mat_st = np.arange(1,26).reshape(5,5)\n",
        "print(mat_st)"
      ],
      "metadata": {
        "colab": {
          "base_uri": "https://localhost:8080/"
        },
        "id": "7zWn-xsPdDQ_",
        "outputId": "2425e51e-2f89-4555-f60c-1e8485d42feb"
      },
      "execution_count": 12,
      "outputs": [
        {
          "output_type": "stream",
          "name": "stdout",
          "text": [
            "[[ 1  2  3  4  5]\n",
            " [ 6  7  8  9 10]\n",
            " [11 12 13 14 15]\n",
            " [16 17 18 19 20]\n",
            " [21 22 23 24 25]]\n"
          ]
        }
      ]
    },
    {
      "cell_type": "markdown",
      "source": [
        "## 13. Необходимо написать код, который вернет следующую матрицу из стартовой:\n",
        "array [12,13,14,15]\n",
        "      [17,18,19,20]\n",
        "      [22,23,24,25]"
      ],
      "metadata": {
        "id": "nxs-BTo8dDbE"
      }
    },
    {
      "cell_type": "code",
      "source": [
        "print(mat_st[2:,1:5])"
      ],
      "metadata": {
        "id": "T66sfFU8St6c",
        "colab": {
          "base_uri": "https://localhost:8080/"
        },
        "outputId": "b8bcbba9-d83f-4028-da1f-81e05034ced3"
      },
      "execution_count": 13,
      "outputs": [
        {
          "output_type": "stream",
          "name": "stdout",
          "text": [
            "[[12 13 14 15]\n",
            " [17 18 19 20]\n",
            " [22 23 24 25]]\n"
          ]
        }
      ]
    },
    {
      "cell_type": "markdown",
      "source": [
        "#14. Написать код обращения к элементу который вернет значение  20 из стартовой матрицы."
      ],
      "metadata": {
        "id": "_hwXzogZSuWM"
      }
    },
    {
      "cell_type": "code",
      "source": [
        "print(mat_st[3][4])"
      ],
      "metadata": {
        "id": "TZTXeQJtS0db",
        "colab": {
          "base_uri": "https://localhost:8080/"
        },
        "outputId": "ccdfa2fa-6288-4ecd-ed61-85df3ba6b04a"
      },
      "execution_count": 14,
      "outputs": [
        {
          "output_type": "stream",
          "name": "stdout",
          "text": [
            "20\n"
          ]
        }
      ]
    },
    {
      "cell_type": "markdown",
      "source": [
        "#15. Написать код к стартовой матрице, который воспроизводит вывод\n",
        "array ([[2],[7],[12]])"
      ],
      "metadata": {
        "id": "WsCDSJ_KS0sa"
      }
    },
    {
      "cell_type": "code",
      "source": [
        "print(mat_st[:3,1])"
      ],
      "metadata": {
        "id": "PGxvpDKoS77H",
        "colab": {
          "base_uri": "https://localhost:8080/"
        },
        "outputId": "6bf72289-5f2b-4442-bcc7-ee949728ca37"
      },
      "execution_count": 15,
      "outputs": [
        {
          "output_type": "stream",
          "name": "stdout",
          "text": [
            "[ 2  7 12]\n"
          ]
        }
      ]
    },
    {
      "cell_type": "markdown",
      "source": [
        "#16. Написать код к стартовой матрице задачи l , который воспроизводит вывод \n",
        "array [21,22,23,24,25]"
      ],
      "metadata": {
        "id": "su6m7JBVS8HL"
      }
    },
    {
      "cell_type": "code",
      "source": [
        "print(mat_st[4:,:])"
      ],
      "metadata": {
        "id": "W-7QY708TAA5",
        "colab": {
          "base_uri": "https://localhost:8080/"
        },
        "outputId": "f57579d3-c6df-4c5d-e51c-872a7a1dbc6e"
      },
      "execution_count": 16,
      "outputs": [
        {
          "output_type": "stream",
          "name": "stdout",
          "text": [
            "[[21 22 23 24 25]]\n"
          ]
        }
      ]
    },
    {
      "cell_type": "markdown",
      "source": [
        "#17. Написать код к стартовой матрице задачи l , который воспроизводитвывод\n",
        "array [16,17,18,19,20] [21,22,23,24,25]"
      ],
      "metadata": {
        "id": "J7ErOBPpTAK9"
      }
    },
    {
      "cell_type": "code",
      "source": [
        "print(mat_st[3:,:])"
      ],
      "metadata": {
        "id": "BX_VbvzXTNJ4",
        "colab": {
          "base_uri": "https://localhost:8080/"
        },
        "outputId": "465b57c1-49b9-4e97-d8b8-8f96d09e0581"
      },
      "execution_count": 17,
      "outputs": [
        {
          "output_type": "stream",
          "name": "stdout",
          "text": [
            "[[16 17 18 19 20]\n",
            " [21 22 23 24 25]]\n"
          ]
        }
      ]
    },
    {
      "cell_type": "markdown",
      "source": [
        "#18. Получить сумму всех значений в стартовой матрице mat"
      ],
      "metadata": {
        "id": "qulb_hmBTNWm"
      }
    },
    {
      "cell_type": "code",
      "source": [
        "print(mat_st.sum())"
      ],
      "metadata": {
        "id": "qieJpbUuTegj",
        "colab": {
          "base_uri": "https://localhost:8080/"
        },
        "outputId": "9a11b791-bcb6-4492-e1ca-f38263350749"
      },
      "execution_count": 18,
      "outputs": [
        {
          "output_type": "stream",
          "name": "stdout",
          "text": [
            "325\n"
          ]
        }
      ]
    },
    {
      "cell_type": "markdown",
      "source": [
        "#19. Получить стандартное отклонение в стартовой матрице mat"
      ],
      "metadata": {
        "id": "caL9symCTgNu"
      }
    },
    {
      "cell_type": "code",
      "source": [
        "print(mat_st.std())"
      ],
      "metadata": {
        "id": "vhVsR1y2TRab",
        "colab": {
          "base_uri": "https://localhost:8080/"
        },
        "outputId": "59e02815-bb3d-4c58-f85a-056d6ecc9f27"
      },
      "execution_count": 19,
      "outputs": [
        {
          "output_type": "stream",
          "name": "stdout",
          "text": [
            "7.211102550927978\n"
          ]
        }
      ]
    },
    {
      "cell_type": "markdown",
      "source": [
        "#20. Получить сумму значений в колонках в стартовой матрице mat\n"
      ],
      "metadata": {
        "id": "qVAGEwf6TRnY"
      }
    },
    {
      "cell_type": "code",
      "source": [
        "print(mat_st.sum(axis=0))"
      ],
      "metadata": {
        "colab": {
          "base_uri": "https://localhost:8080/"
        },
        "id": "GH9saTwPHEJR",
        "outputId": "296cf1a7-0fad-48dd-9eb4-5bad8a1902eb"
      },
      "execution_count": 20,
      "outputs": [
        {
          "output_type": "stream",
          "name": "stdout",
          "text": [
            "[55 60 65 70 75]\n"
          ]
        }
      ]
    },
    {
      "cell_type": "markdown",
      "source": [
        "в строках "
      ],
      "metadata": {
        "id": "fxcnmCNQHXfj"
      }
    },
    {
      "cell_type": "code",
      "source": [
        "print(mat_st.sum(axis=1))"
      ],
      "metadata": {
        "colab": {
          "base_uri": "https://localhost:8080/"
        },
        "id": "HcfrU3kkBzeI",
        "outputId": "d39c7116-98a2-4f15-fbc2-4f7964237043"
      },
      "execution_count": 21,
      "outputs": [
        {
          "output_type": "stream",
          "name": "stdout",
          "text": [
            "[ 15  40  65  90 115]\n"
          ]
        }
      ]
    }
  ]
}